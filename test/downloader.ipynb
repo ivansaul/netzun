{
 "cells": [
  {
   "cell_type": "code",
   "execution_count": 8,
   "metadata": {},
   "outputs": [],
   "source": [
    "import requests\n",
    "\n",
    "url = 'https://vod-progressive.akamaized.net/exp=1675919538~acl=%2Fvimeo-prod-skyfire-std-us%2F01%2F745%2F20%2F503725918%2F2302668520.mp4~hmac=2816b9aae1ba3ad410986b2f91be78ddd4143b379b513003dbc5095ae93cc780/vimeo-prod-skyfire-std-us/01/745/20/503725918/2302668520.mp4'\n",
    "filename = 'Módulo 6 - Cápsula 25.  tips para una importación exitosa.mp4'\n",
    "\n",
    "response = requests.get(url, stream=True)\n",
    "\n",
    "with open(filename, 'wb') as f:\n",
    "    for chunk in response.iter_content(1024):\n",
    "        f.write(chunk)\n"
   ]
  },
  {
   "cell_type": "code",
   "execution_count": null,
   "metadata": {},
   "outputs": [],
   "source": [
    "import sys\n",
    "import requests\n",
    "import time\n",
    "\n",
    "url = \"https://vod-progressive.akamaized.net/exp=1675919538~acl=%2Fvimeo-prod-skyfire-std-us%2F01%2F745%2F20%2F503725918%2F2302668520.mp4~hmac=2816b9aae1ba3ad410986b2f91be78ddd4143b379b513003dbc5095ae93cc780/vimeo-prod-skyfire-std-us/01/745/20/503725918/2302668520.mp4\"\n",
    "filename = 'Módulo 4 - Cápsula 1. Modalidades de despacho y canales de control.mp4'\n",
    "\n",
    "\n",
    "response = requests.get(url, stream=True)\n",
    "\n",
    "total_size = int(response.headers.get('content-length', 0))\n",
    "block_size = 1024\n",
    "wrote = 0\n",
    "start = time.time()\n",
    "\n",
    "with open(filename, 'wb') as f:\n",
    "    for chunk in response.iter_content(block_size):\n",
    "        wrote = wrote + len(chunk)\n",
    "        f.write(chunk)\n",
    "        progress = (wrote/total_size) * 100\n",
    "        downloaded = wrote / (1024 * 1024)\n",
    "        total = total_size / (1024 * 1024)\n",
    "        speed = (wrote / (time.time() - start)) / (1024 * 1024)\n",
    "        sys.stdout.write(f'\\r{filename}: [{downloaded:.2f} MB / {total:.2f} MB] [{progress:.2f}% completed] [Speed: {speed:.2f} MB/s]')\n",
    "        sys.stdout.flush()\n"
   ]
  },
  {
   "cell_type": "code",
   "execution_count": null,
   "metadata": {},
   "outputs": [],
   "source": [
    "import sys\n",
    "import requests\n",
    "\n",
    "url = \"https://vod-progressive.akamaized.net/exp=1675919538~acl=%2Fvimeo-prod-skyfire-std-us%2F01%2F745%2F20%2F503725918%2F2302668520.mp4~hmac=2816b9aae1ba3ad410986b2f91be78ddd4143b379b513003dbc5095ae93cc780/vimeo-prod-skyfire-std-us/01/745/20/503725918/2302668520.mp4\"\n",
    "filename = 'Módulo 5 - Cápsula 1. Modalidades de despacho y canales de control.mp4'\n",
    "\n",
    "\n",
    "response = requests.get(url, stream=True)\n",
    "\n",
    "total_size = int(response.headers.get('content-length', 0))\n",
    "block_size = 1024\n",
    "wrote = 0\n",
    "\n",
    "with open(filename, 'wb') as f:\n",
    "    for chunk in response.iter_content(block_size):\n",
    "        wrote = wrote + len(chunk)\n",
    "        f.write(chunk)\n",
    "        progress = (wrote/total_size) * 100\n",
    "        downloaded = wrote / (1024 * 1024)\n",
    "        total = total_size / (1024 * 1024)\n",
    "        sys.stdout.write(f'\\r{filename}: [{downloaded:.2f} MB / {total:.2f} MB] [{progress:.2f}% completed]')\n",
    "        sys.stdout.flush()\n",
    "\n"
   ]
  },
  {
   "cell_type": "code",
   "execution_count": 6,
   "metadata": {},
   "outputs": [
    {
     "name": "stderr",
     "output_type": "stream",
     "text": [
      "Módulo 4 - Cápsula 25.  tips para una importación exitosa.mp4: 72.6kGB [00:58, 1.24kGB/s]                           \n"
     ]
    }
   ],
   "source": [
    "# Los metodos anteriores no se porque son extremadamente lentos\n",
    "import requests\n",
    "from tqdm import tqdm\n",
    "import sys\n",
    "\n",
    "url = 'https://vod-progressive.akamaized.net/exp=1675919538~acl=%2Fvimeo-prod-skyfire-std-us%2F01%2F745%2F20%2F503725918%2F2302668520.mp4~hmac=2816b9aae1ba3ad410986b2f91be78ddd4143b379b513003dbc5095ae93cc780/vimeo-prod-skyfire-std-us/01/745/20/503725918/2302668520.mp4'\n",
    "filename = 'Módulo 4 - Cápsula 25.  tips para una importación exitosa.mp4'\n",
    "\n",
    "response = requests.get(url, stream=True)\n",
    "\n",
    "total_size = int(response.headers.get('content-length', 0))\n",
    "block_size = 1024\n",
    "wrote = 0\n",
    "\n",
    "with open(filename, 'wb') as f:\n",
    "    for chunk in tqdm(response.iter_content(block_size), total=total_size//block_size, unit='MB', unit_scale=True, desc=filename):\n",
    "        wrote = wrote + len(chunk)\n",
    "        f.write(chunk)\n"
   ]
  }
 ],
 "metadata": {
  "kernelspec": {
   "display_name": "Python 3.10.6 ('venv': venv)",
   "language": "python",
   "name": "python3"
  },
  "language_info": {
   "codemirror_mode": {
    "name": "ipython",
    "version": 3
   },
   "file_extension": ".py",
   "mimetype": "text/x-python",
   "name": "python",
   "nbconvert_exporter": "python",
   "pygments_lexer": "ipython3",
   "version": "3.10.6"
  },
  "orig_nbformat": 4,
  "vscode": {
   "interpreter": {
    "hash": "60e5195e0859f7fa0121b169b47dc06f5cb35f7c6b2b99d1384d611e8115a460"
   }
  }
 },
 "nbformat": 4,
 "nbformat_minor": 2
}
