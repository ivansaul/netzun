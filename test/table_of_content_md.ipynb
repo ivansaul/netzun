{
 "cells": [
  {
   "cell_type": "code",
   "execution_count": 2,
   "metadata": {},
   "outputs": [],
   "source": [
    "import json\n",
    "with open('table_of_content.json', 'r') as file:\n",
    "    table_of_content = json.load(file)"
   ]
  },
  {
   "cell_type": "code",
   "execution_count": 6,
   "metadata": {},
   "outputs": [],
   "source": [
    "import json\n",
    "\n",
    "class Netzun:\n",
    "    \n",
    "    def table_of_content_md(self):\n",
    "        \"\"\"\n",
    "        Crea un archivo md con la tabla de contenido y el nombre del curso\n",
    "        \"\"\"\n",
    "\n",
    "        with open('table_of_content.json', 'r') as file:\n",
    "            self.table_of_content = json.load(file)\n",
    "        \n",
    "        nombre_curso = \"Mobile\"\n",
    "        \n",
    "        with open('table_of_content.md', 'w') as file:\n",
    "            file.write(f\"# {nombre_curso}\\n\\n\")\n",
    "\n",
    "            for tc in self.table_of_content:\n",
    "                file.write(f\"## {tc['titulo']}\\n\\n\")\n",
    "                for c in tc['capsulas']:\n",
    "                    file.write(f\"- {c['cap_titulo']}\\n\")\n",
    "                file.write(\"\\n\")\n",
    "\n",
    "if __name__ == \"__main__\":\n",
    "    ntz = Netzun()\n",
    "    ntz.table_of_content_md()\n"
   ]
  }
 ],
 "metadata": {
  "kernelspec": {
   "display_name": "Python 3.10.6 ('venv': venv)",
   "language": "python",
   "name": "python3"
  },
  "language_info": {
   "codemirror_mode": {
    "name": "ipython",
    "version": 3
   },
   "file_extension": ".py",
   "mimetype": "text/x-python",
   "name": "python",
   "nbconvert_exporter": "python",
   "pygments_lexer": "ipython3",
   "version": "3.10.6"
  },
  "orig_nbformat": 4,
  "vscode": {
   "interpreter": {
    "hash": "60e5195e0859f7fa0121b169b47dc06f5cb35f7c6b2b99d1384d611e8115a460"
   }
  }
 },
 "nbformat": 4,
 "nbformat_minor": 2
}
