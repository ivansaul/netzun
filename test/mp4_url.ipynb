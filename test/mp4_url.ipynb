{
 "cells": [
  {
   "cell_type": "code",
   "execution_count": 5,
   "metadata": {},
   "outputs": [
    {
     "ename": "JSONDecodeError",
     "evalue": "Extra data: line 1 column 11294 (char 11293)",
     "output_type": "error",
     "traceback": [
      "\u001b[0;31m---------------------------------------------------------------------------\u001b[0m",
      "\u001b[0;31mJSONDecodeError\u001b[0m                           Traceback (most recent call last)",
      "Cell \u001b[0;32mIn[5], line 23\u001b[0m\n\u001b[1;32m     19\u001b[0m     f\u001b[38;5;241m.\u001b[39mwrite(json_text)\n\u001b[1;32m     22\u001b[0m \u001b[38;5;66;03m# Parse the JSON into a Python object\u001b[39;00m\n\u001b[0;32m---> 23\u001b[0m data \u001b[38;5;241m=\u001b[39m \u001b[43mjson\u001b[49m\u001b[38;5;241;43m.\u001b[39;49m\u001b[43mloads\u001b[49m\u001b[43m(\u001b[49m\u001b[43mjson_text\u001b[49m\u001b[43m)\u001b[49m\n\u001b[1;32m     25\u001b[0m \u001b[38;5;66;03m#print(data)\u001b[39;00m\n",
      "File \u001b[0;32m/usr/lib/python3.10/json/__init__.py:346\u001b[0m, in \u001b[0;36mloads\u001b[0;34m(s, cls, object_hook, parse_float, parse_int, parse_constant, object_pairs_hook, **kw)\u001b[0m\n\u001b[1;32m    341\u001b[0m     s \u001b[39m=\u001b[39m s\u001b[39m.\u001b[39mdecode(detect_encoding(s), \u001b[39m'\u001b[39m\u001b[39msurrogatepass\u001b[39m\u001b[39m'\u001b[39m)\n\u001b[1;32m    343\u001b[0m \u001b[39mif\u001b[39;00m (\u001b[39mcls\u001b[39m \u001b[39mis\u001b[39;00m \u001b[39mNone\u001b[39;00m \u001b[39mand\u001b[39;00m object_hook \u001b[39mis\u001b[39;00m \u001b[39mNone\u001b[39;00m \u001b[39mand\u001b[39;00m\n\u001b[1;32m    344\u001b[0m         parse_int \u001b[39mis\u001b[39;00m \u001b[39mNone\u001b[39;00m \u001b[39mand\u001b[39;00m parse_float \u001b[39mis\u001b[39;00m \u001b[39mNone\u001b[39;00m \u001b[39mand\u001b[39;00m\n\u001b[1;32m    345\u001b[0m         parse_constant \u001b[39mis\u001b[39;00m \u001b[39mNone\u001b[39;00m \u001b[39mand\u001b[39;00m object_pairs_hook \u001b[39mis\u001b[39;00m \u001b[39mNone\u001b[39;00m \u001b[39mand\u001b[39;00m \u001b[39mnot\u001b[39;00m kw):\n\u001b[0;32m--> 346\u001b[0m     \u001b[39mreturn\u001b[39;00m _default_decoder\u001b[39m.\u001b[39;49mdecode(s)\n\u001b[1;32m    347\u001b[0m \u001b[39mif\u001b[39;00m \u001b[39mcls\u001b[39m \u001b[39mis\u001b[39;00m \u001b[39mNone\u001b[39;00m:\n\u001b[1;32m    348\u001b[0m     \u001b[39mcls\u001b[39m \u001b[39m=\u001b[39m JSONDecoder\n",
      "File \u001b[0;32m/usr/lib/python3.10/json/decoder.py:340\u001b[0m, in \u001b[0;36mJSONDecoder.decode\u001b[0;34m(self, s, _w)\u001b[0m\n\u001b[1;32m    338\u001b[0m end \u001b[39m=\u001b[39m _w(s, end)\u001b[39m.\u001b[39mend()\n\u001b[1;32m    339\u001b[0m \u001b[39mif\u001b[39;00m end \u001b[39m!=\u001b[39m \u001b[39mlen\u001b[39m(s):\n\u001b[0;32m--> 340\u001b[0m     \u001b[39mraise\u001b[39;00m JSONDecodeError(\u001b[39m\"\u001b[39m\u001b[39mExtra data\u001b[39m\u001b[39m\"\u001b[39m, s, end)\n\u001b[1;32m    341\u001b[0m \u001b[39mreturn\u001b[39;00m obj\n",
      "\u001b[0;31mJSONDecodeError\u001b[0m: Extra data: line 1 column 11294 (char 11293)"
     ]
    }
   ],
   "source": [
    "from bs4 import BeautifulSoup\n",
    "import json\n",
    "\n",
    "with open('mp4.html', 'r') as f:\n",
    "    html = f.read()\n",
    "\n",
    "soup = BeautifulSoup(html, \"html.parser\")\n",
    "\n",
    "for script_tag in soup.find_all('script'):\n",
    "    if \"window.playerConfig \" in script_tag.text:\n",
    "        script_text = script_tag.text\n",
    "\n",
    "# Find the JSON in the text\n",
    "start = script_text.index(\"{\")\n",
    "end = script_text.rindex(\"}\") + 1\n",
    "json_text = script_text[start:end]\n",
    "\n",
    "with open('mp4.json', 'w') as f:\n",
    "    f.write(json_text)\n",
    "\n",
    "\n",
    "# Parse the JSON into a Python object\n",
    "data = json.loads(json_text)\n",
    "\n",
    "#print(data)"
   ]
  },
  {
   "cell_type": "code",
   "execution_count": 3,
   "metadata": {},
   "outputs": [
    {
     "name": "stdout",
     "output_type": "stream",
     "text": [
      "<class 'str'>\n"
     ]
    },
    {
     "data": {
      "text/plain": [
       "{'progressive': [{'profile': '174',\n",
       "   'width': 1280,\n",
       "   'mime': 'video/mp4',\n",
       "   'fps': 24,\n",
       "   'url': 'https://vod-progressive.akamaized.net/exp=1675855221~acl=%2Fvimeo-prod-skyfire-std-us%2F01%2F745%2F20%2F503727174%2F2336452123.mp4~hmac=b105cd2ccc82357aa4fb0203c558224434950051ba478f6d56cdf0f0349332cd/vimeo-prod-skyfire-std-us/01/745/20/503727174/2336452123.mp4',\n",
       "   'cdn': 'akamai_interconnect',\n",
       "   'quality': '720p',\n",
       "   'id': '10d85c73-690a-4e49-b3f5-504c1f8c8492',\n",
       "   'origin': 'gcs',\n",
       "   'height': 720},\n",
       "  {'profile': '139',\n",
       "   'width': 426,\n",
       "   'mime': 'video/mp4',\n",
       "   'fps': 24,\n",
       "   'url': 'https://vod-progressive.akamaized.net/exp=1675855221~acl=%2Fvimeo-prod-skyfire-std-us%2F01%2F745%2F20%2F503727174%2F2336452128.mp4~hmac=2fda033d2d4e363bca1a4f3c0964ae25c14a1e4cbae8e6b76aa5421f387b162b/vimeo-prod-skyfire-std-us/01/745/20/503727174/2336452128.mp4',\n",
       "   'cdn': 'akamai_interconnect',\n",
       "   'quality': '240p',\n",
       "   'id': '21d8a0e8-2548-478f-934b-31652cd14489',\n",
       "   'origin': 'gcs',\n",
       "   'height': 240},\n",
       "  {'profile': '164',\n",
       "   'width': 640,\n",
       "   'mime': 'video/mp4',\n",
       "   'fps': 24,\n",
       "   'url': 'https://vod-progressive.akamaized.net/exp=1675855221~acl=%2Fvimeo-prod-skyfire-std-us%2F01%2F745%2F20%2F503727174%2F2336452122.mp4~hmac=398728a86696bbef0c56188bcc3c506a9b44d188ae94dcc71e2fc5092fd9378d/vimeo-prod-skyfire-std-us/01/745/20/503727174/2336452122.mp4',\n",
       "   'cdn': 'akamai_interconnect',\n",
       "   'quality': '360p',\n",
       "   'id': '25ba5584-465a-422f-be98-73f91a181827',\n",
       "   'origin': 'gcs',\n",
       "   'height': 360},\n",
       "  {'profile': '175',\n",
       "   'width': 1920,\n",
       "   'mime': 'video/mp4',\n",
       "   'fps': 24,\n",
       "   'url': 'https://vod-progressive.akamaized.net/exp=1675855221~acl=%2Fvimeo-prod-skyfire-std-us%2F01%2F745%2F20%2F503727174%2F2336452138.mp4~hmac=3dad177887422056d1c8aa156c06a2e9cf8f28fe496744c164e8dd2806c4ca12/vimeo-prod-skyfire-std-us/01/745/20/503727174/2336452138.mp4',\n",
       "   'cdn': 'akamai_interconnect',\n",
       "   'quality': '1080p',\n",
       "   'id': '26b7f04f-caa8-4eb6-84be-896fa70499ce',\n",
       "   'origin': 'gcs',\n",
       "   'height': 1080},\n",
       "  {'profile': '165',\n",
       "   'width': 960,\n",
       "   'mime': 'video/mp4',\n",
       "   'fps': 24,\n",
       "   'url': 'https://vod-progressive.akamaized.net/exp=1675855221~acl=%2Fvimeo-prod-skyfire-std-us%2F01%2F745%2F20%2F503727174%2F2336452131.mp4~hmac=26154d5649e14c185a0814a6482b74820dcaddaa2794ede1b1ee5b35476a024a/vimeo-prod-skyfire-std-us/01/745/20/503727174/2336452131.mp4',\n",
       "   'cdn': 'akamai_interconnect',\n",
       "   'quality': '540p',\n",
       "   'id': '40338b5c-fa70-45b7-91b8-313d59f1cb89',\n",
       "   'origin': 'gcs',\n",
       "   'height': 540}]}"
      ]
     },
     "execution_count": 3,
     "metadata": {},
     "output_type": "execute_result"
    }
   ],
   "source": [
    "import re\n",
    "import json\n",
    "\n",
    "with open('mp4.html', 'r') as f:\n",
    "    html = f.read()\n",
    "\n",
    "text = html\n",
    "\n",
    "result = re.search(r\"\\\"progressive\\\"\\s*:\\s*\\[.*?\\]\", text)\n",
    "\n",
    "\n",
    "with open('mp4_dl.json','w') as f:\n",
    "    f.write('{'+result.group()+'}')\n",
    "\n",
    "if result:\n",
    "    extracted_text = result.group()\n",
    "    print(type(extracted_text))\n",
    "    #print(extracted_text)\n",
    "\n",
    "\n",
    "else:\n",
    "    print(\"No se encontró coincidencia.\")\n",
    "\n",
    "data = json.loads('{'+result.group()+'}')\n",
    "\n",
    "data\n"
   ]
  },
  {
   "cell_type": "code",
   "execution_count": 32,
   "metadata": {},
   "outputs": [
    {
     "name": "stdout",
     "output_type": "stream",
     "text": [
      "<class 'list'>\n"
     ]
    },
    {
     "ename": "JSONDecodeError",
     "evalue": "Expecting value: line 1 column 2 (char 1)",
     "output_type": "error",
     "traceback": [
      "\u001b[0;31m---------------------------------------------------------------------------\u001b[0m",
      "\u001b[0;31mJSONDecodeError\u001b[0m                           Traceback (most recent call last)",
      "Cell \u001b[0;32mIn[32], line 8\u001b[0m\n\u001b[1;32m      5\u001b[0m result \u001b[38;5;241m=\u001b[39m re\u001b[38;5;241m.\u001b[39mfindall(\u001b[38;5;124mr\u001b[39m\u001b[38;5;124m'\u001b[39m\u001b[38;5;124mprogressive.*?\u001b[39m\u001b[38;5;124m\\\u001b[39m\u001b[38;5;124m[(.*?)\u001b[39m\u001b[38;5;124m\\\u001b[39m\u001b[38;5;124m]\u001b[39m\u001b[38;5;124m'\u001b[39m, html)\n\u001b[1;32m      7\u001b[0m \u001b[38;5;28mprint\u001b[39m(\u001b[38;5;28mtype\u001b[39m(result))\n\u001b[0;32m----> 8\u001b[0m result \u001b[38;5;241m=\u001b[39m \u001b[43mjson\u001b[49m\u001b[38;5;241;43m.\u001b[39;49m\u001b[43mloads\u001b[49m\u001b[43m(\u001b[49m\u001b[38;5;28;43mstr\u001b[39;49m\u001b[43m(\u001b[49m\u001b[43mresult\u001b[49m\u001b[43m)\u001b[49m\u001b[43m)\u001b[49m\n\u001b[1;32m      9\u001b[0m \u001b[38;5;28mprint\u001b[39m(result)\n\u001b[1;32m     11\u001b[0m \u001b[38;5;66;03m# ['lista1']\u001b[39;00m\n",
      "File \u001b[0;32m/usr/lib/python3.10/json/__init__.py:346\u001b[0m, in \u001b[0;36mloads\u001b[0;34m(s, cls, object_hook, parse_float, parse_int, parse_constant, object_pairs_hook, **kw)\u001b[0m\n\u001b[1;32m    341\u001b[0m     s \u001b[39m=\u001b[39m s\u001b[39m.\u001b[39mdecode(detect_encoding(s), \u001b[39m'\u001b[39m\u001b[39msurrogatepass\u001b[39m\u001b[39m'\u001b[39m)\n\u001b[1;32m    343\u001b[0m \u001b[39mif\u001b[39;00m (\u001b[39mcls\u001b[39m \u001b[39mis\u001b[39;00m \u001b[39mNone\u001b[39;00m \u001b[39mand\u001b[39;00m object_hook \u001b[39mis\u001b[39;00m \u001b[39mNone\u001b[39;00m \u001b[39mand\u001b[39;00m\n\u001b[1;32m    344\u001b[0m         parse_int \u001b[39mis\u001b[39;00m \u001b[39mNone\u001b[39;00m \u001b[39mand\u001b[39;00m parse_float \u001b[39mis\u001b[39;00m \u001b[39mNone\u001b[39;00m \u001b[39mand\u001b[39;00m\n\u001b[1;32m    345\u001b[0m         parse_constant \u001b[39mis\u001b[39;00m \u001b[39mNone\u001b[39;00m \u001b[39mand\u001b[39;00m object_pairs_hook \u001b[39mis\u001b[39;00m \u001b[39mNone\u001b[39;00m \u001b[39mand\u001b[39;00m \u001b[39mnot\u001b[39;00m kw):\n\u001b[0;32m--> 346\u001b[0m     \u001b[39mreturn\u001b[39;00m _default_decoder\u001b[39m.\u001b[39;49mdecode(s)\n\u001b[1;32m    347\u001b[0m \u001b[39mif\u001b[39;00m \u001b[39mcls\u001b[39m \u001b[39mis\u001b[39;00m \u001b[39mNone\u001b[39;00m:\n\u001b[1;32m    348\u001b[0m     \u001b[39mcls\u001b[39m \u001b[39m=\u001b[39m JSONDecoder\n",
      "File \u001b[0;32m/usr/lib/python3.10/json/decoder.py:337\u001b[0m, in \u001b[0;36mJSONDecoder.decode\u001b[0;34m(self, s, _w)\u001b[0m\n\u001b[1;32m    332\u001b[0m \u001b[39mdef\u001b[39;00m \u001b[39mdecode\u001b[39m(\u001b[39mself\u001b[39m, s, _w\u001b[39m=\u001b[39mWHITESPACE\u001b[39m.\u001b[39mmatch):\n\u001b[1;32m    333\u001b[0m \u001b[39m    \u001b[39m\u001b[39m\"\"\"Return the Python representation of ``s`` (a ``str`` instance\u001b[39;00m\n\u001b[1;32m    334\u001b[0m \u001b[39m    containing a JSON document).\u001b[39;00m\n\u001b[1;32m    335\u001b[0m \n\u001b[1;32m    336\u001b[0m \u001b[39m    \"\"\"\u001b[39;00m\n\u001b[0;32m--> 337\u001b[0m     obj, end \u001b[39m=\u001b[39m \u001b[39mself\u001b[39;49m\u001b[39m.\u001b[39;49mraw_decode(s, idx\u001b[39m=\u001b[39;49m_w(s, \u001b[39m0\u001b[39;49m)\u001b[39m.\u001b[39;49mend())\n\u001b[1;32m    338\u001b[0m     end \u001b[39m=\u001b[39m _w(s, end)\u001b[39m.\u001b[39mend()\n\u001b[1;32m    339\u001b[0m     \u001b[39mif\u001b[39;00m end \u001b[39m!=\u001b[39m \u001b[39mlen\u001b[39m(s):\n",
      "File \u001b[0;32m/usr/lib/python3.10/json/decoder.py:355\u001b[0m, in \u001b[0;36mJSONDecoder.raw_decode\u001b[0;34m(self, s, idx)\u001b[0m\n\u001b[1;32m    353\u001b[0m     obj, end \u001b[39m=\u001b[39m \u001b[39mself\u001b[39m\u001b[39m.\u001b[39mscan_once(s, idx)\n\u001b[1;32m    354\u001b[0m \u001b[39mexcept\u001b[39;00m \u001b[39mStopIteration\u001b[39;00m \u001b[39mas\u001b[39;00m err:\n\u001b[0;32m--> 355\u001b[0m     \u001b[39mraise\u001b[39;00m JSONDecodeError(\u001b[39m\"\u001b[39m\u001b[39mExpecting value\u001b[39m\u001b[39m\"\u001b[39m, s, err\u001b[39m.\u001b[39mvalue) \u001b[39mfrom\u001b[39;00m \u001b[39mNone\u001b[39m\n\u001b[1;32m    356\u001b[0m \u001b[39mreturn\u001b[39;00m obj, end\n",
      "\u001b[0;31mJSONDecodeError\u001b[0m: Expecting value: line 1 column 2 (char 1)"
     ]
    }
   ],
   "source": [
    "import re\n",
    "\n",
    "\n",
    "# Busca los valores entre corchetes después de la palabra \"progressive\"\n",
    "result = re.findall(r'progressive.*?\\[(.*?)\\]', html)\n",
    "\n",
    "print(type(result))\n",
    "result = json.loads((result))\n",
    "print(result)\n",
    "\n",
    "# ['lista1']\n"
   ]
  },
  {
   "cell_type": "code",
   "execution_count": 18,
   "metadata": {},
   "outputs": [
    {
     "data": {
      "text/plain": [
       "[{'quality': '480p'}, {'quality': '1080p'}, {'quality': '3000p'}]"
      ]
     },
     "execution_count": 18,
     "metadata": {},
     "output_type": "execute_result"
    }
   ],
   "source": [
    "list_of_dicts = [{'quality': '1080p'}, {'quality': '480p'}, {'quality': '3000p'}]\n",
    "sorted(list_of_dicts, key=lambda x: int(x['quality'].rstrip('p')))\n"
   ]
  },
  {
   "cell_type": "code",
   "execution_count": 10,
   "metadata": {},
   "outputs": [
    {
     "name": "stdout",
     "output_type": "stream",
     "text": [
      "<class 'str'>\n",
      "['https://vod-progressive.akamaized.net/exp=1675889476~acl=%2Fvimeo-prod-skyfire-std-us%2F01%2F745%2F20%2F503727174%2F2336452128.mp4~hmac=294d9ac1fffb33f66c6ea64156a1654c8d0362f8c4d8d8847c1a053a141d950d/vimeo-prod-skyfire-std-us/01/745/20/503727174/2336452128.mp4', 'https://vod-progressive.akamaized.net/exp=1675889476~acl=%2Fvimeo-prod-skyfire-std-us%2F01%2F745%2F20%2F503727174%2F2336452122.mp4~hmac=dff1f2767b68666375c6c0d2867c2d98f25ed48a2e5faf8096e436ef3c9d236c/vimeo-prod-skyfire-std-us/01/745/20/503727174/2336452122.mp4', 'https://vod-progressive.akamaized.net/exp=1675889476~acl=%2Fvimeo-prod-skyfire-std-us%2F01%2F745%2F20%2F503727174%2F2336452131.mp4~hmac=70b45323e6ff52788e5eb22a1482037eff4fad5268f13fb695756e7c17ddc24e/vimeo-prod-skyfire-std-us/01/745/20/503727174/2336452131.mp4', 'https://vod-progressive.akamaized.net/exp=1675889476~acl=%2Fvimeo-prod-skyfire-std-us%2F01%2F745%2F20%2F503727174%2F2336452123.mp4~hmac=a877c4d7b4dde67030ebd3fcb33b76a32e8b1056ecdc648454f199d8f751bb9b/vimeo-prod-skyfire-std-us/01/745/20/503727174/2336452123.mp4', 'https://vod-progressive.akamaized.net/exp=1675889476~acl=%2Fvimeo-prod-skyfire-std-us%2F01%2F745%2F20%2F503727174%2F2336452138.mp4~hmac=1415aaa664b78c1396337f28c9ec696352dfe94f625d1948d202d0160f65ea4d/vimeo-prod-skyfire-std-us/01/745/20/503727174/2336452138.mp4']\n"
     ]
    },
    {
     "data": {
      "text/plain": [
       "5"
      ]
     },
     "execution_count": 10,
     "metadata": {},
     "output_type": "execute_result"
    }
   ],
   "source": [
    "import re\n",
    "import requests\n",
    "\n",
    "url = 'https://player.vimeo.com/video/503727174?h=f818bd11aa&app_id=122963'\n",
    "headers = {\n",
    "    'Referer': 'https://netzun.com/', \n",
    "    'User-Agent': 'Mozilla/5.0 (X11; Linux x86_64) AppleWebKit/537.36 (KHTML, like Gecko) Chrome/109.0.0.0 Safari/537.36', \n",
    "    'sec-ch-ua-platform': '\"Linux\"'\n",
    "}\n",
    "\n",
    "response = requests.get(url, headers=headers)\n",
    "response = response.text\n",
    "\n",
    "# Busca response la #lista después de la palabra \"progressive\": [#lista] -> #lista\n",
    "match = re.search(r'progressive.*?\\[(.*?)\\]', response)\n",
    "\n",
    "if match:\n",
    "    result = match.group(1)\n",
    "    result = '['+result+']' # le agregamos [] para convertirlo a lista \n",
    "    result = json.loads(result) # 'lista1'\n",
    "\n",
    "    # ordenamos los videos por quality\n",
    "    result = sorted(result, key=lambda x: int(x['quality'].rstrip('p')))\n",
    "    # obnemos solo los link a los videos\n",
    "    result = [x['url'] for x in result if x['mime']=='video/mp4']\n",
    "    print(result)\n",
    "    \n",
    "else:\n",
    "    print('No se encontraron los link a los videos.')\n",
    "\n",
    "len(result)\n"
   ]
  }
 ],
 "metadata": {
  "kernelspec": {
   "display_name": "Python 3.10.6 ('venv': venv)",
   "language": "python",
   "name": "python3"
  },
  "language_info": {
   "codemirror_mode": {
    "name": "ipython",
    "version": 3
   },
   "file_extension": ".py",
   "mimetype": "text/x-python",
   "name": "python",
   "nbconvert_exporter": "python",
   "pygments_lexer": "ipython3",
   "version": "3.10.6"
  },
  "orig_nbformat": 4,
  "vscode": {
   "interpreter": {
    "hash": "60e5195e0859f7fa0121b169b47dc06f5cb35f7c6b2b99d1384d611e8115a460"
   }
  }
 },
 "nbformat": 4,
 "nbformat_minor": 2
}
