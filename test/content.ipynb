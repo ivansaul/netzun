{
 "cells": [
  {
   "cell_type": "code",
   "execution_count": 22,
   "metadata": {},
   "outputs": [
    {
     "name": "stdout",
     "output_type": "stream",
     "text": [
      "Cápsula 3132. Modalidades de\n"
     ]
    }
   ],
   "source": [
    "import re\n",
    "\n",
    "string = \"Cápsula 3132Modalidades de\"\n",
    "nueva_cadena = re.sub(r\"(\\d+)\", r\"\\1. \", string)\n",
    "print(nueva_cadena)\n"
   ]
  },
  {
   "cell_type": "code",
   "execution_count": 36,
   "metadata": {},
   "outputs": [
    {
     "name": "stdout",
     "output_type": "stream",
     "text": [
      "<class 'bs4.element.Tag'>\n"
     ]
    }
   ],
   "source": [
    "import re\n",
    "from bs4 import BeautifulSoup\n",
    "from pprint import pprint\n",
    "\n",
    "with open(\"page_source.html\", \"r\") as file:\n",
    "    html = file.read()\n",
    "\n",
    "soup = BeautifulSoup(html, \"html.parser\")\n",
    "div_modules = soup.find(\"div\", class_=\"modules\")\n",
    "\n",
    "li_modules = div_modules.find_all(\"li\", class_=re.compile(\"accordion__item\"))"
   ]
  },
  {
   "cell_type": "code",
   "execution_count": 59,
   "metadata": {},
   "outputs": [
    {
     "name": "stdout",
     "output_type": "stream",
     "text": [
      "4\n",
      "[{'capsulas': [{'cap_titulo': 'Cápsula 1Presentación del docente y curso'},\n",
      "               {'cap_titulo': 'Cápsula 2Importación para el consumo y '\n",
      "                              'categoría de bienes'},\n",
      "               {'cap_titulo': 'Cápsula 3Importa Fácil y Envíos de Entrega '\n",
      "                              'Rápida (EER)'}],\n",
      "  'n_cap': '3 Cápsulas',\n",
      "  'titulo': 'Módulo 1: Introducción'},\n",
      " {'capsulas': [{'cap_titulo': 'Cápsula 1Referencias de proveedores'},\n",
      "               {'cap_titulo': 'Cápsula 2INCOTERMS'},\n",
      "               {'cap_titulo': 'Cápsula 3La cotización del proveedor'},\n",
      "               {'cap_titulo': 'Cápsula 4Tratamiento arancelario'},\n",
      "               {'cap_titulo': 'Cápsula 5Cálculo de los derechos e impuestos de '\n",
      "                              'importación'}],\n",
      "  'n_cap': '5 Cápsulas',\n",
      "  'titulo': 'Módulo 2: Proveedores y cotizaciones internacionales'},\n",
      " {'capsulas': [{'cap_titulo': 'Cápsula 1Operadores que participan en el '\n",
      "                              'proceso de importación\\n'\n",
      "                              '                              '},\n",
      "               {'cap_titulo': 'Cápsula 2Documentos en el proceso de '\n",
      "                              'importación'}],\n",
      "  'n_cap': '2 Cápsulas',\n",
      "  'titulo': 'Módulo 3: Operadores y documentos del comercio exterior'},\n",
      " {'capsulas': [{'cap_titulo': 'Cápsula 1Modalidades de despacho y canales de '\n",
      "                              'control'},\n",
      "               {'cap_titulo': 'Cápsula 25 tips para una importación exitosa'}],\n",
      "  'n_cap': '2 Cápsulas',\n",
      "  'titulo': 'Módulo 4: Procedimiento aduanero'}]\n"
     ]
    }
   ],
   "source": [
    "modules = []\n",
    "\n",
    "for li in li_modules:\n",
    "    modules.append({\n",
    "        'titulo': li.find(\"h3\").text,\n",
    "        'n_cap': li.find(\"p\").text,\n",
    "        'capsulas': [{'cap_titulo': x.text} for x in li.find_all(\"div\", class_=\"info\")]\n",
    "    })\n",
    "\n",
    "print(len(modules))\n",
    "pprint(modules)"
   ]
  },
  {
   "cell_type": "code",
   "execution_count": 57,
   "metadata": {},
   "outputs": [
    {
     "name": "stdout",
     "output_type": "stream",
     "text": [
      "https://netzun.com/mis-contenidos/cursos/261/1264/4346\n",
      "https://netzun.com/mis-contenidos/cursos/261/1264/4347\n",
      "https://netzun.com/mis-contenidos/cursos/261/1264/4348\n",
      "https://netzun.com/mis-contenidos/cursos/261/1265/4349\n",
      "https://netzun.com/mis-contenidos/cursos/261/1265/4350\n",
      "https://netzun.com/mis-contenidos/cursos/261/1265/4351\n",
      "https://netzun.com/mis-contenidos/cursos/261/1265/4352\n",
      "https://netzun.com/mis-contenidos/cursos/261/1265/4353\n",
      "https://netzun.com/mis-contenidos/cursos/261/1266/4354\n",
      "https://netzun.com/mis-contenidos/cursos/261/1266/4355\n",
      "https://netzun.com/mis-contenidos/cursos/261/1267/4356\n",
      "https://netzun.com/mis-contenidos/cursos/261/1267/4357\n"
     ]
    }
   ],
   "source": [
    "url_course =  \"https://netzun.com/mis-contenidos/cursos/261/1264/4346\"\n",
    "\n",
    "*base_url_course, i, j = url_course.split('/')\n",
    "base_url_course, i, j = '/'.join(base_url_course), int(i), int(j)\n",
    "\n",
    "for x in modules:\n",
    "    for y in x['capsulas']:\n",
    "        y['url'] = base_url_course + f\"/{i}/{j}\"\n",
    "        print(base_url_course + f\"/{i}/{j}\")\n",
    "        j =j+1\n",
    "    i = i+1"
   ]
  }
 ],
 "metadata": {
  "kernelspec": {
   "display_name": "Python 3.10.6 ('venv': venv)",
   "language": "python",
   "name": "python3"
  },
  "language_info": {
   "codemirror_mode": {
    "name": "ipython",
    "version": 3
   },
   "file_extension": ".py",
   "mimetype": "text/x-python",
   "name": "python",
   "nbconvert_exporter": "python",
   "pygments_lexer": "ipython3",
   "version": "3.10.6"
  },
  "orig_nbformat": 4,
  "vscode": {
   "interpreter": {
    "hash": "60e5195e0859f7fa0121b169b47dc06f5cb35f7c6b2b99d1384d611e8115a460"
   }
  }
 },
 "nbformat": 4,
 "nbformat_minor": 2
}
